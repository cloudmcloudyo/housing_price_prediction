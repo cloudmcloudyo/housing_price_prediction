{
 "cells": [
  {
   "cell_type": "markdown",
   "metadata": {},
   "source": [
    "<img src=\"http://imgur.com/1ZcRyrc.png\" style=\"float: left; margin: 20px; height: 55px\">\n",
    "\n",
    "# Project 2: Regression Challenge\n",
    "Notebook II"
   ]
  },
  {
   "cell_type": "markdown",
   "metadata": {},
   "source": [
    "--- \n",
    "#### Linear Regression Modeling\n",
    "\n",
    "\n",
    "Notebook II to IV showcase the modeling process for this project: Started from selecting most relevant features. Then a null model was established as a baseline, follwed by fitting a simple ols model. More features and engineering were added along the way as well as more complex tools such as regularization and log transformation to fine tune the model for a best result. There are 7 models included in three notebooks.\n",
    "\n",
    "\n",
    "This notebook contains the following content:\n",
    "\n",
    "- [Feature Selection](#Feature-Selection)\n",
    "- [Baseline Model](#Model-1---Baseline-Model)\n",
    "- [OLS Model](#Model-2---OLS-Model)\n",
    "- [OLS Model with Feature Intersection](#Model-3---OLS-Model-Improved)\n",
    "---"
   ]
  },
  {
   "cell_type": "code",
   "execution_count": 24,
   "metadata": {},
   "outputs": [],
   "source": [
    "import pandas as pd\n",
    "import numpy as np\n",
    "import matplotlib.pyplot as plt\n",
    "import seaborn as sns\n",
    "from sklearn.linear_model import LinearRegression\n",
    "from sklearn.model_selection import train_test_split, cross_val_score\n",
    "from sklearn import metrics\n",
    "import pickle"
   ]
  },
  {
   "cell_type": "code",
   "execution_count": 2,
   "metadata": {},
   "outputs": [],
   "source": [
    "pd.set_option('display.max_columns', None) \n",
    "pd.set_option('display.max_rows', None)\n",
    "\n",
    "train = pd.read_csv('../datasets/train_clean.csv')\n",
    "test = pd.read_csv('../datasets/test_clean.csv')"
   ]
  },
  {
   "cell_type": "markdown",
   "metadata": {},
   "source": [
    "### Feature Selection"
   ]
  },
  {
   "cell_type": "markdown",
   "metadata": {},
   "source": [
    "Even after the data cleaning, there are still 64 features in the training dataset. In order to have a good model with effective features, I decide to use those with the strongest corrlation (positive and negative) with sale price."
   ]
  },
  {
   "cell_type": "code",
   "execution_count": 3,
   "metadata": {},
   "outputs": [
    {
     "data": {
      "image/png": "[encoded data removed]",
      "text/plain": [
       "<Figure size 432x288 with 1 Axes>"
      ]
     },
     "metadata": {
      "needs_background": "light"
     },
     "output_type": "display_data"
    }
   ],
   "source": [
    "pos_corr = train.corr()[['saleprice']].sort_values('saleprice', ascending = False)[:11].drop('saleprice')\n",
    "sns.barplot(x = pos_corr['saleprice'], y = pos_corr.index, orient = 'h', palette = 'viridis')\n",
    "plt.title('Top 10 Positive Correlation with Sale Price', fontsize = 16)\n",
    "plt.tight_layout()\n",
    "plt.savefig('../charts/top10_pos_corr.png');"
   ]
  },
  {
   "cell_type": "code",
   "execution_count": 4,
   "metadata": {},
   "outputs": [
    {
     "data": {
      "image/png": "[encoded data removed]",
      "text/plain": [
       "<Figure size 432x288 with 1 Axes>"
      ]
     },
     "metadata": {
      "needs_background": "light"
     },
     "output_type": "display_data"
    }
   ],
   "source": [
    "neg_corr = train.corr()[['saleprice']].sort_values('saleprice')[:6]\n",
    "sns.barplot(x = neg_corr['saleprice'], y = neg_corr.index, orient = 'h', palette = 'viridis')\n",
    "plt.title('Top 5 Negative Correlation with Sale Price', fontsize = 16)\n",
    "# inspired by Hov!\n",
    "plt.tight_layout()\n",
    "plt.savefig('../charts/top5_neg_corr.png');"
   ]
  },
  {
   "cell_type": "markdown",
   "metadata": {},
   "source": [
    "From the above two charts, I have selected my initial features: all top 10 positive correlators and age_sold and age_since_remod in negative correlators."
   ]
  },
  {
   "cell_type": "markdown",
   "metadata": {},
   "source": [
    "### Model 1 - Baseline Model\n",
    "First I'm building a baseline model. I will be using the mean of the sale price in the training data to predict all the sale price in the testing data. For this model, doesn't really matter what features I pick. The prediction will always be the same."
   ]
  },
  {
   "cell_type": "code",
   "execution_count": 5,
   "metadata": {},
   "outputs": [],
   "source": [
    "X = train.drop('saleprice', axis =1)\n",
    "y = train['saleprice']"
   ]
  },
  {
   "cell_type": "code",
   "execution_count": 6,
   "metadata": {},
   "outputs": [],
   "source": [
    "# train-test-split just to manual calculate the RMSE\n",
    "X_test, X_train, y_test, y_train = train_test_split(X, y, random_state = 42)"
   ]
  },
  {
   "cell_type": "code",
   "execution_count": 7,
   "metadata": {},
   "outputs": [
    {
     "name": "stdout",
     "output_type": "stream",
     "text": [
      "RMSE is: 1800901.165397851\n"
     ]
    }
   ],
   "source": [
    "mse = 0\n",
    "for i in y_train:\n",
    "    residual = i - y.mean()\n",
    "    mse += residual ** 2\n",
    "rmse = mse ** 0.5\n",
    "\n",
    "print(f'RMSE is: {rmse}')"
   ]
  },
  {
   "cell_type": "code",
   "execution_count": 8,
   "metadata": {},
   "outputs": [],
   "source": [
    "submission = pd.DataFrame()\n",
    "submission['id'] = test['id']\n",
    "submission['SalePrice'] = train['saleprice'].mean()\n",
    "submission.to_csv('../result/submission_null.csv', index = False)"
   ]
  },
  {
   "cell_type": "markdown",
   "metadata": {},
   "source": [
    "As you can see the local RMSE is very high. The result has a Kaggle RMSE of 83323.21."
   ]
  },
  {
   "cell_type": "markdown",
   "metadata": {},
   "source": [
    "### Model 2 - OLS Model\n",
    "My first linear regression model will be using features that I mentioned in the previous feature selection part. The model has not gone through any advanced engineering and is the least complex of all. However as mentioned, all the features included have a relatively high correlation with sale price."
   ]
  },
  {
   "cell_type": "code",
   "execution_count": 9,
   "metadata": {},
   "outputs": [],
   "source": [
    "# define features, X, and y\n",
    "features = ['total_sqft',\n",
    "           'total_bath',\n",
    "           'garage_finish',\n",
    "           'mas_vnr_area',\n",
    "           'overall_qual',\n",
    "           'exter_qual',\n",
    "           'kitchen_qual',\n",
    "           'bsmt_qual',\n",
    "           'fireplace_qu',\n",
    "           'garage_cars',\n",
    "           'age_sold',\n",
    "           'age_since_remod']\n",
    "\n",
    "X = train[features]\n",
    "y = train['saleprice']\n",
    "features_train = X.columns"
   ]
  },
  {
   "cell_type": "code",
   "execution_count": 10,
   "metadata": {},
   "outputs": [
    {
     "name": "stdout",
     "output_type": "stream",
     "text": [
      "Train R2 score is: 0.8510507379487142\n",
      "Test R2 score is: 0.8687868759807058\n",
      "RMSE is: 28801.812478710206\n"
     ]
    }
   ],
   "source": [
    "# train-test-split, will be using the default 3:1 since we have enough data\n",
    "X_train, X_test, y_train, y_test = train_test_split(X, y, random_state = 42)\n",
    "\n",
    "# instantiate the linear regression model\n",
    "lr = LinearRegression()\n",
    "\n",
    "# fit the model to train data from the train_test_split\n",
    "lr.fit(X_train, y_train)\n",
    "\n",
    "# evaluate the model using R2\n",
    "print(f'Train R2 score is: {lr.score(X_train, y_train)}')\n",
    "print(f'Test R2 score is: {lr.score(X_test, y_test)}')\n",
    "\n",
    "# evaluate with RMSE\n",
    "pred = lr.predict(X_test)\n",
    "rmse = (metrics.mean_squared_error(y_test, pred)) ** 0.5\n",
    "print(f'RMSE is: {rmse}')"
   ]
  },
  {
   "cell_type": "markdown",
   "metadata": {},
   "source": [
    "This RMSE score is so much better than the baseline. It also has a close R<sup>2</sup> score between train and test data around 0.85 to 0.87, which means that this model fit around 85% - 87% of the data. Not too bad but not perfect either. The higher test score result also indicates a possible lower variance model, which means we might need to optimize a more complex model to better fit. However since it's better fit now, I'm going to go ahead and predict the sale price for the actual test data."
   ]
  },
  {
   "cell_type": "code",
   "execution_count": 11,
   "metadata": {},
   "outputs": [],
   "source": [
    "# format per Kaggle requirement \n",
    "X_1 = test[features]\n",
    "features_test = X_1.columns\n",
    "pred_saleprice = lr.predict(X_1)"
   ]
  },
  {
   "cell_type": "code",
   "execution_count": 12,
   "metadata": {},
   "outputs": [],
   "source": [
    "# export result to CSV file\n",
    "submission = pd.DataFrame()\n",
    "submission['id'] = test['id']\n",
    "submission['SalePrice'] = pred_saleprice\n",
    "submission.to_csv('../result/submission_1.csv', index = False)"
   ]
  },
  {
   "cell_type": "markdown",
   "metadata": {},
   "source": [
    "This submission on Kaggle returns a RMSE of 31964.12697."
   ]
  },
  {
   "cell_type": "markdown",
   "metadata": {},
   "source": [
    "### Model 3 - OLS Model Improved"
   ]
  },
  {
   "cell_type": "markdown",
   "metadata": {},
   "source": [
    "For this model, I aim to create improve with more advanced feature engineering such as interaction. I decide to intersect total square feet and overall quality features, as both of them are critical factors of a house sale price. I also added in some categorical features which I believe to be important to sale price as discussed in the data cleaning stage. These features include: neighborhood, year sold and ms subclass. Also to be more consistant with the scope, I added total bedroom since it's also a common factor."
   ]
  },
  {
   "cell_type": "code",
   "execution_count": 13,
   "metadata": {},
   "outputs": [],
   "source": [
    "# intersecting the features\n",
    "train['total_sqft * overall_qual'] = train['total_sqft'] * train['overall_qual']\n",
    "test['total_sqft * overall_qual'] = test['total_sqft'] * test['overall_qual']"
   ]
  },
  {
   "cell_type": "code",
   "execution_count": 14,
   "metadata": {},
   "outputs": [
    {
     "data": {
      "image/png": "[encoded data removed]",
      "text/plain": [
       "<Figure size 972x216 with 3 Axes>"
      ]
     },
     "metadata": {
      "needs_background": "light"
     },
     "output_type": "display_data"
    }
   ],
   "source": [
    "sns.pairplot(train, y_vars = 'saleprice', \n",
    "             x_vars = ['total_sqft', 'overall_qual', 'total_sqft * overall_qual'], \n",
    "             height = 3, \n",
    "             aspect = 1.5)\n",
    "plt.suptitle('Correlation with Sale Price', fontsize = 16, y = 1.08)\n",
    "plt.tight_layout()\n",
    "plt.savefig('../charts/intersection.png');"
   ]
  },
  {
   "cell_type": "markdown",
   "metadata": {},
   "source": [
    "As shown above the correlation definitely becomes more linear and strongly correlated, which makes me certain to move forward with this engineered feature."
   ]
  },
  {
   "cell_type": "code",
   "execution_count": 15,
   "metadata": {},
   "outputs": [],
   "source": [
    "df = train.copy()\n",
    "df_test = test.copy()"
   ]
  },
  {
   "cell_type": "code",
   "execution_count": 16,
   "metadata": {},
   "outputs": [],
   "source": [
    "features = ['total_sqft',\n",
    "            'total_bath',\n",
    "            'total_bedroom',\n",
    "            'mas_vnr_area',\n",
    "            'neighborhood',\n",
    "            'overall_qual',\n",
    "            'exter_qual',\n",
    "            'kitchen_qual',\n",
    "            'bsmt_qual',\n",
    "            'fireplace_qu',\n",
    "            'garage_cars',\n",
    "            'garage_finish',\n",
    "            'age_sold',\n",
    "            'age_since_remod',\n",
    "            'yr_sold',\n",
    "            'total_sqft * overall_qual',\n",
    "            'ms_subclass']\n",
    "\n",
    "X = df[features]\n",
    "\n",
    "# dummify categorical features\n",
    "X = pd.get_dummies(data = X, columns = ['neighborhood','yr_sold', 'ms_subclass'], drop_first = True)\n",
    "y = df['saleprice']\n",
    "\n",
    "features_train = X.columns"
   ]
  },
  {
   "cell_type": "code",
   "execution_count": 17,
   "metadata": {},
   "outputs": [
    {
     "name": "stdout",
     "output_type": "stream",
     "text": [
      "Train R2 score is: 0.9106225155573133\n",
      "Test R2 score is: 0.9250739227482012\n",
      "RMSE is: 21764.449086767963\n"
     ]
    }
   ],
   "source": [
    "# train-test-split, will be using the default 3:1 since we have enough data\n",
    "X_train, X_test, y_train, y_test = train_test_split(X, y, random_state = 42)\n",
    "\n",
    "# instantiate the linear regression model\n",
    "lr = LinearRegression()\n",
    "\n",
    "# fit the model to train data from the train_test_split\n",
    "lr.fit(X_train, y_train)\n",
    "\n",
    "# evaluate the model using R2\n",
    "print(f'Train R2 score is: {lr.score(X_train, y_train)}')\n",
    "print(f'Test R2 score is: {lr.score(X_test, y_test)}')\n",
    "\n",
    "# evaluate with RMSE\n",
    "pred = lr.predict(X_test)\n",
    "rmse = (metrics.mean_squared_error(y_test, pred)) ** 0.5\n",
    "print(f'RMSE is: {rmse}')"
   ]
  },
  {
   "cell_type": "markdown",
   "metadata": {},
   "source": [
    "The RMSE has dropped by over 8,000 for this model, indicating that the intersection is significantly improving the model. It also produced 91% R<sup>2</sup> score for training data and 92.5% for the test."
   ]
  },
  {
   "cell_type": "code",
   "execution_count": 18,
   "metadata": {},
   "outputs": [],
   "source": [
    "# dummify real testing data\n",
    "X_1 = test[features]\n",
    "X_1 = pd.get_dummies(data = X_1, columns = ['neighborhood', 'yr_sold', 'ms_subclass'], drop_first = True)\n",
    "features_test = X_1.columns"
   ]
  },
  {
   "cell_type": "code",
   "execution_count": 19,
   "metadata": {},
   "outputs": [
    {
     "name": "stdout",
     "output_type": "stream",
     "text": [
      "Test data shape: (878, 57)\n",
      "Train data shape: (2049, 60)\n"
     ]
    }
   ],
   "source": [
    "# since there are dummification, check if the training and testing shape matches\n",
    "print(f'Test data shape: {X_1.shape}')\n",
    "print(f'Train data shape: {X.shape}')"
   ]
  },
  {
   "cell_type": "markdown",
   "metadata": {},
   "source": [
    "The columns numbers of train and test data mismatch, a result that test data does not have some of the dummy features. So I'm identifying what columns are and adding them to the test data in the same order as the ones in train data."
   ]
  },
  {
   "cell_type": "code",
   "execution_count": 20,
   "metadata": {},
   "outputs": [],
   "source": [
    "# credit to James Hampton who gave me this great idea!\n",
    "train_only = set(features_train) - set(features_test)\n",
    "\n",
    "for missing_col in train_only:\n",
    "    X_1[missing_col] = 0\n",
    "\n",
    "X_1 = X_1[X.columns]"
   ]
  },
  {
   "cell_type": "code",
   "execution_count": 21,
   "metadata": {},
   "outputs": [],
   "source": [
    "pred_saleprice = lr.predict(X_1)"
   ]
  },
  {
   "cell_type": "code",
   "execution_count": 22,
   "metadata": {},
   "outputs": [],
   "source": [
    "submission = pd.DataFrame()\n",
    "submission['id'] = test['id']\n",
    "submission['SalePrice'] = pred_saleprice\n",
    "submission.to_csv('../result/submission_2.csv', index = False)"
   ]
  },
  {
   "cell_type": "markdown",
   "metadata": {},
   "source": [
    "This submission has a Kaggle RMSE of 24883.35478"
   ]
  },
  {
   "cell_type": "markdown",
   "metadata": {},
   "source": [
    "### Pickling"
   ]
  },
  {
   "cell_type": "code",
   "execution_count": 26,
   "metadata": {},
   "outputs": [],
   "source": [
    "# inspired by Charlie's lecture\n",
    "import pickle\n",
    "import os\n",
    "os.mkdir('../assets/')"
   ]
  },
  {
   "cell_type": "code",
   "execution_count": 27,
   "metadata": {},
   "outputs": [],
   "source": [
    "file_name = '../assets/ols_model_improved.pkl'\n",
    "\n",
    "pickle.dump(lr, open(file_name, 'wb'))"
   ]
  }
 ],
 "metadata": {
  "kernelspec": {
   "display_name": "Python 3",
   "language": "python",
   "name": "python3"
  },
  "language_info": {
   "codemirror_mode": {
    "name": "ipython",
    "version": 3
   },
   "file_extension": ".py",
   "mimetype": "text/x-python",
   "name": "python",
   "nbconvert_exporter": "python",
   "pygments_lexer": "ipython3",
   "version": "3.7.6"
  }
 },
 "nbformat": 4,
 "nbformat_minor": 4
}
